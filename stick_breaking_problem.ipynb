{
 "cells": [
  {
   "cell_type": "code",
   "execution_count": 36,
   "metadata": {},
   "outputs": [],
   "source": [
    "import numpy as np"
   ]
  },
  {
   "cell_type": "markdown",
   "metadata": {},
   "source": [
    "Here we will simulate the stick breaking problem.\n",
    "We need to find out the expected length of a stick after breaking it twice\n",
    "When position of breaking of stiick is uniformly distributed through out the length of the stick \n",
    "when the stick is broken then we take one of the piece of the stick (lets be consistent and always the left part of the broken sticks)and then break it again"
   ]
  },
  {
   "cell_type": "code",
   "execution_count": 37,
   "metadata": {},
   "outputs": [],
   "source": [
    "l=5"
   ]
  },
  {
   "cell_type": "code",
   "execution_count": 38,
   "metadata": {},
   "outputs": [
    {
     "name": "stdout",
     "output_type": "stream",
     "text": [
      "2.5182833983249053\n",
      "1.291426821273672\n"
     ]
    }
   ],
   "source": [
    "sim=10000\n",
    "ar_x1=[0]*sim\n",
    "ar_x2=[0]*sim\n",
    "for i in range(sim):\n",
    "    ar_x1[i]=np.random.rand(1)*l\n",
    "    ar_x2[i]=np.random.rand(1)*x1\n",
    "print(np.mean(ar_x1))\n",
    "print(np.mean(ar_x2))"
   ]
  },
  {
   "cell_type": "code",
   "execution_count": null,
   "metadata": {},
   "outputs": [],
   "source": []
  }
 ],
 "metadata": {
  "kernelspec": {
   "display_name": "Python 3",
   "language": "python",
   "name": "python3"
  },
  "language_info": {
   "codemirror_mode": {
    "name": "ipython",
    "version": 3
   },
   "file_extension": ".py",
   "mimetype": "text/x-python",
   "name": "python",
   "nbconvert_exporter": "python",
   "pygments_lexer": "ipython3",
   "version": "3.7.6"
  }
 },
 "nbformat": 4,
 "nbformat_minor": 4
}
