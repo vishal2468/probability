{
 "cells": [
  {
   "cell_type": "code",
   "execution_count": 16,
   "metadata": {},
   "outputs": [],
   "source": [
    "import numpy as np\n",
    "import matplotlib.pyplot as plt"
   ]
  },
  {
   "cell_type": "markdown",
   "metadata": {},
   "source": [
    "Problem:\n",
    "The minucipality gave a tender to a perticular company.According to the aggrement the company is required to run a bus from \"source\" to a \"destination\" every 15 minutes on average.\n",
    "A minucipality wants to check whether the company is abiding by the terms of the agreement.\n",
    "It sends one of it employee to go to the bus stop and note the time it took for the bus to arrive at the stop.\n",
    "He is further instructed to inquire about the time when the last bus to that perticular location has left.\n",
    "To make the simulation simpler to understand, it is assumed that the bus is normally distributed throughout the day.There is no peak or lean hours as such.\n",
    "The employee visits the bus stand every day for 100 consecutive days at a random time and asks a bystander the time when the bus to the \"destination\" left the stand . He then waits and records the time when the next bus arraives to the stand.\n",
    "We will simulate this problem and study the result."
   ]
  },
  {
   "cell_type": "markdown",
   "metadata": {},
   "source": [
    "NOte : here the bus arrival rate is 15 minutes on average.It should be noted that the "
   ]
  },
  {
   "cell_type": "code",
   "execution_count": 17,
   "metadata": {},
   "outputs": [],
   "source": [
    "num_buses=96\n",
    "hours=24\n",
    "bus_arrivals=np.random.rand(num_buses)*hours # here he are imulating arrivas of 48 buses whithin a day.\n",
    "bus_arrivals=sorted(bus_arrivals)"
   ]
  },
  {
   "cell_type": "markdown",
   "metadata": {},
   "source": [
    "Now we want our employee to visit the stand at a random time."
   ]
  },
  {
   "cell_type": "code",
   "execution_count": 34,
   "metadata": {},
   "outputs": [],
   "source": [
    "ar_pvs=[0]*1000\n",
    "ar_nxt=[0]*1000\n",
    "for i in range(1000):\n",
    "    pvs_bus=0\n",
    "    next_bus=0\n",
    "    emp_visit=np.random.rand(1)*hours\n",
    "    if(emp_visit<bus_arrivals[0]):\n",
    "        pvs_bus=emp_visit\n",
    "        next_bus=bus_arrivals[0]-emp_visit\n",
    "    elif(emp_visit>bus_arrivals[num_buses-1]):\n",
    "        pvs_bus=abs(bus_arrivals[num_buses-1]-emp_visit)\n",
    "        next_bus=24-emp_visit\n",
    "    else:\n",
    "        pvs_bus=abs(min([x for x in bus_arrivals if x > emp_visit])-emp_visit)\n",
    "        next_bus=abs(max([x for x in bus_arrivals if x < emp_visit])-emp_visit)\n",
    "    ar_pvs[i]=pvs_bus\n",
    "    ar_nxt[i]=next_bus\n",
    "            \n",
    "    "
   ]
  },
  {
   "cell_type": "code",
   "execution_count": 35,
   "metadata": {},
   "outputs": [
    {
     "name": "stdout",
     "output_type": "stream",
     "text": [
      "0.23740362288154346\n",
      "0.24123017309208541\n"
     ]
    }
   ],
   "source": [
    "print(np.mean(ar_pvs))\n",
    "print(np.mean(ar_nxt))"
   ]
  },
  {
   "cell_type": "code",
   "execution_count": null,
   "metadata": {},
   "outputs": [],
   "source": []
  }
 ],
 "metadata": {
  "kernelspec": {
   "display_name": "Python 3",
   "language": "python",
   "name": "python3"
  },
  "language_info": {
   "codemirror_mode": {
    "name": "ipython",
    "version": 3
   },
   "file_extension": ".py",
   "mimetype": "text/x-python",
   "name": "python",
   "nbconvert_exporter": "python",
   "pygments_lexer": "ipython3",
   "version": "3.7.6"
  }
 },
 "nbformat": 4,
 "nbformat_minor": 4
}
