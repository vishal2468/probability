{
 "cells": [
  {
   "cell_type": "code",
   "execution_count": 3,
   "metadata": {},
   "outputs": [],
   "source": [
    "import numpy as np\n",
    "import matplotlib.pyplot as plt\n",
    "import math\n",
    "import scipy.stats as stats"
   ]
  },
  {
   "cell_type": "markdown",
   "metadata": {},
   "source": [
    "if we toss a coin n number of times we get k number of heads.\n",
    "if we consider this , tossing a coin n times , as an experiment and the number of heads as an outcome than , if we repeat this experiment a large number to times ,we will observe that the pmf of number of heads in a expermiment is a normal distribution."
   ]
  },
  {
   "cell_type": "markdown",
   "metadata": {},
   "source": [
    "here the n mentioned above is taken to be 100 tosses.\n",
    "Then we generate random array of length 100 and filled with values 0 or 1 (with equal probability 0.5)\n",
    "A single such array mimics the experiment of tossing 100 coins.\n",
    "The number of heads in thsi experiment can have any value ranging from 0(when no toss produces heads) to the n (in care when all the tosses produces heads)\n",
    "Therefore we repeat this experiment many times (here 10000).\n",
    "So ,where do this 10000 comes from?? \n",
    "Here we intend to perform the experiment a large number of times.This has a straight implications from The law of large numbers ,according to whic test statistic tend to move toward the true value as the number of experiments increases."
   ]
  },
  {
   "cell_type": "markdown",
   "metadata": {},
   "source": [
    "We also know that variance of a bernoulli trial is p(1-p).\n",
    "\n",
    "Here p=probability of heads in tossing a coin( bernoulli trial) is 0.5\n",
    "therefor variance of a single bernoulli trial is 0.25\n",
    "\n",
    "and the sum of IID random variable is var(x1)+var(x2)....+var(xn)\n",
    "where x1,x2...,xn are random variable \n",
    "\n",
    "Similarly we can consider the n number of tosses as a sum of n iid bernoulli trials\n",
    "and there variance should come out to be 0.25*100\n",
    "\n",
    "mean should be np\n",
    "and therefor the histogram should be roughly centered around 50"
   ]
  },
  {
   "cell_type": "code",
   "execution_count": 4,
   "metadata": {},
   "outputs": [],
   "source": [
    "n=100\n",
    "ar=[0]*10000 \n",
    "for i in range(10000):\n",
    "    ct=sum(np.random.randint(2, size=n))\n",
    "    ar[i]=ct"
   ]
  },
  {
   "cell_type": "markdown",
   "metadata": {},
   "source": [
    "We will now simply use numpy library to calculate the variance of this experiment.\n",
    "It must be noted that using above codes we have already stored ,in an array ,the total number of heads in an experiment."
   ]
  },
  {
   "cell_type": "code",
   "execution_count": 4,
   "metadata": {},
   "outputs": [
    {
     "data": {
      "text/plain": [
       "24.968328789999994"
      ]
     },
     "execution_count": 4,
     "metadata": {},
     "output_type": "execute_result"
    }
   ],
   "source": [
    "np.var(ar) #variance of randomly generated tosses "
   ]
  },
  {
   "cell_type": "code",
   "execution_count": 5,
   "metadata": {},
   "outputs": [
    {
     "data": {
      "image/png": "[encoded data removed]",
      "text/plain": [
       "<Figure size 432x288 with 1 Axes>"
      ]
     },
     "metadata": {
      "needs_background": "light"
     },
     "output_type": "display_data"
    }
   ],
   "source": [
    "numbins=100\n",
    "plt.hist(ar,numbins)\n",
    "plt.show()"
   ]
  },
  {
   "cell_type": "markdown",
   "metadata": {},
   "source": [
    "This histogram may be looking familiar to you.This is actually what is called a gaussin or normal distributin,which looks like an inverted bell."
   ]
  },
  {
   "cell_type": "code",
   "execution_count": 6,
   "metadata": {},
   "outputs": [],
   "source": [
    "import numpy as np\n",
    "n=100\n",
    "ar=[0]*(n+1)\n",
    "for i in range(1000):\n",
    "    ct=sum(np.random.randint(2, size=n))\n",
    "    ar[ct]=ar[ct]+1/1000\n"
   ]
  },
  {
   "cell_type": "markdown",
   "metadata": {},
   "source": [
    "so here we are converting our frequency graph to the Probability density function."
   ]
  },
  {
   "cell_type": "markdown",
   "metadata": {},
   "source": [
    "According to the central limit theorum the limit of sum of IID bernoullior ,or for that matter any other ramdom process, is a normal distribution \n",
    "SO in the excrepts below we will try to compare the obtained curve with a normal distribution whose mean and variance will be same as the estimated mean and variance of data obtained from tossing the coins.\n",
    "But me must ponder on the fact that the limit of the IID random variable is a gauusian,so to get the shape of the distribution we may have to perform the experiment a large number of time."
   ]
  },
  {
   "cell_type": "code",
   "execution_count": 8,
   "metadata": {},
   "outputs": [
    {
     "data": {
      "image/png": "[encoded data removed]",
      "text/plain": [
       "<Figure size 432x288 with 1 Axes>"
      ]
     },
     "metadata": {
      "needs_background": "light"
     },
     "output_type": "display_data"
    }
   ],
   "source": [
    "mu = 50\n",
    "variance = 25\n",
    "sigma = math.sqrt(variance)\n",
    "x = np.linspace(mu - 3*sigma, mu + 3*sigma, 100)\n",
    "plt.plot(x, stats.norm.pdf(x, mu, sigma))\n",
    "plt.plot(ar)\n",
    "plt.show()"
   ]
  },
  {
   "cell_type": "code",
   "execution_count": 9,
   "metadata": {},
   "outputs": [],
   "source": [
    "ar1=[0]*101\n",
    "for i in range(n+1):\n",
    "    ar1[i]=ar[i]*(i-50)*(i-50)"
   ]
  },
  {
   "cell_type": "code",
   "execution_count": 10,
   "metadata": {},
   "outputs": [
    {
     "name": "stdout",
     "output_type": "stream",
     "text": [
      "variance is 23.34800000000001\n",
      "standard deviation is  4.83197682113646\n"
     ]
    }
   ],
   "source": [
    "var=sum(ar1) #variance of the distribution\n",
    "print(\"variance is\",var)\n",
    "std=math.sqrt(sum(ar1))#standard deviation of the distribution\n",
    "print(\"standard deviation is \",std)\n"
   ]
  },
  {
   "cell_type": "code",
   "execution_count": null,
   "metadata": {},
   "outputs": [],
   "source": []
  }
 ],
 "metadata": {
  "kernelspec": {
   "display_name": "Python 3",
   "language": "python",
   "name": "python3"
  },
  "language_info": {
   "codemirror_mode": {
    "name": "ipython",
    "version": 3
   },
   "file_extension": ".py",
   "mimetype": "text/x-python",
   "name": "python",
   "nbconvert_exporter": "python",
   "pygments_lexer": "ipython3",
   "version": "3.7.6"
  }
 },
 "nbformat": 4,
 "nbformat_minor": 4
}
